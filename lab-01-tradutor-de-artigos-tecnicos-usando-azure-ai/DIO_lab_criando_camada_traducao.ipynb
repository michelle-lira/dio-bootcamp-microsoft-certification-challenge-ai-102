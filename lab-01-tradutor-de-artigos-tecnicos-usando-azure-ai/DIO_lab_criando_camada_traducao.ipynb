{
  "nbformat": 4,
  "nbformat_minor": 0,
  "metadata": {
    "colab": {
      "provenance": []
    },
    "kernelspec": {
      "name": "python3",
      "display_name": "Python 3"
    },
    "language_info": {
      "name": "python"
    }
  },
  "cells": [
    {
      "cell_type": "markdown",
      "source": [],
      "metadata": {
        "id": "Ba1E9lsHPtXK"
      }
    },
    {
      "cell_type": "markdown",
      "source": [
        "## DIO Tradutor com o Azure"
      ],
      "metadata": {
        "id": "0MUmLpT0QGwi"
      }
    },
    {
      "cell_type": "code",
      "execution_count": null,
      "metadata": {
        "colab": {
          "base_uri": "https://localhost:8080/"
        },
        "id": "oJ90oFu_PrwV",
        "outputId": "de2fa8fc-2c4a-426f-d9c0-9cdb436b9164"
      },
      "outputs": [
        {
          "output_type": "stream",
          "name": "stdout",
          "text": [
            "Requirement already satisfied: requests in /usr/local/lib/python3.10/dist-packages (2.32.3)\n",
            "Requirement already satisfied: python-docx in /usr/local/lib/python3.10/dist-packages (1.1.2)\n",
            "Requirement already satisfied: charset-normalizer<4,>=2 in /usr/local/lib/python3.10/dist-packages (from requests) (3.4.0)\n",
            "Requirement already satisfied: idna<4,>=2.5 in /usr/local/lib/python3.10/dist-packages (from requests) (3.10)\n",
            "Requirement already satisfied: urllib3<3,>=1.21.1 in /usr/local/lib/python3.10/dist-packages (from requests) (2.2.3)\n",
            "Requirement already satisfied: certifi>=2017.4.17 in /usr/local/lib/python3.10/dist-packages (from requests) (2024.8.30)\n",
            "Requirement already satisfied: lxml>=3.1.0 in /usr/local/lib/python3.10/dist-packages (from python-docx) (5.3.0)\n",
            "Requirement already satisfied: typing-extensions>=4.9.0 in /usr/local/lib/python3.10/dist-packages (from python-docx) (4.12.2)\n"
          ]
        }
      ],
      "source": [
        "!pip install requests python-docx"
      ]
    },
    {
      "cell_type": "code",
      "source": [
        "import requests\n",
        "from docx import Document\n",
        "import os\n",
        "\n",
        "subscription_key = \"EPqrRz4MVPEEt5Tro0NEliAZE9CNFBNlTk1eRBRnCivYCUywP51uJQQJ99AKACHYHv6XJ3w3AAAbACOG6ClR\"\n",
        "endpoint = \"https://api.cognitive.microsofttranslator.com\"\n",
        "location =\"eastus2\"\n",
        "language_destination = \"pt-br\"\n",
        "\n",
        "def translator_text(text, language_destination):\n",
        "    path = '/translate'\n",
        "    constructed_url = endpoint + path\n",
        "    headers = {\n",
        "        'Ocp-Apim-Subscription-Key': subscription_key,\n",
        "        'Ocp-Apim-Subscription-Region': location,\n",
        "        'Content-type': 'application/json',\n",
        "        'X-ClientTraceId': str(os.urandom(16))\n",
        "    }\n",
        "\n",
        "    body = [{\n",
        "        'text': text\n",
        "    }]\n",
        "\n",
        "    params = {\n",
        "        'api-version': '3.0',\n",
        "        'from': 'en',\n",
        "        'to': language_destination\n",
        "    }\n",
        "\n",
        "    request = requests.post(constructed_url, params=params, headers=headers, json=body)\n",
        "    response = request.json()\n",
        "    return response[0][\"translations\"][0][\"text\"]"
      ],
      "metadata": {
        "id": "e-y-BE-TQL67"
      },
      "execution_count": null,
      "outputs": []
    },
    {
      "cell_type": "code",
      "source": [
        "translator_text(\"I know you're somewhere ou there, somewhere far away\", language_destination)"
      ],
      "metadata": {
        "colab": {
          "base_uri": "https://localhost:8080/",
          "height": 35
        },
        "id": "r9EsIlFte566",
        "outputId": "79e404a1-958b-43a9-d3a3-62df8b864a59"
      },
      "execution_count": null,
      "outputs": [
        {
          "output_type": "execute_result",
          "data": {
            "text/plain": [
              "'Eu sei que você está em algum lugar ou lá, em algum lugar distante'"
            ],
            "application/vnd.google.colaboratory.intrinsic+json": {
              "type": "string"
            }
          },
          "metadata": {},
          "execution_count": 7
        }
      ]
    },
    {
      "cell_type": "code",
      "source": [
        "def translate_document(path):\n",
        "    document = Document(path)\n",
        "    full_text = []\n",
        "\n",
        "    for paragraph in document.paragraphs:\n",
        "        translated_text = translator_text(paragraph.text, language_destination)\n",
        "        full_text.append(translated_text)\n",
        "\n",
        "    translated_doc = Document()\n",
        "    for line in full_text:\n",
        "        print(line)\n",
        "        translated_doc.add_paragraph(line)\n",
        "\n",
        "    path_translated = path.replace(\".docx\", f\"_{language_destination}.docx\")\n",
        "    translated_doc.save(path_translated)\n",
        "    return path_translated\n",
        "\n",
        "\n",
        "input_file = \"/content/music.docx\"\n",
        "translate_document(input_file)"
      ],
      "metadata": {
        "colab": {
          "base_uri": "https://localhost:8080/",
          "height": 1000
        },
        "id": "Q9c7JBgZTYjr",
        "outputId": "66376ea5-3cc1-48bd-c1de-6f8be5efdb99"
      },
      "execution_count": 13,
      "outputs": [
        {
          "output_type": "stream",
          "name": "stdout",
          "text": [
            "Mockingbird\n",
            "Eminem\n",
            "\n",
            "Sim, eu sei que às vezes\n",
            "As coisas nem sempre fazem sentido para você agora\n",
            "Mas, ei, o que o papai sempre te diz?\n",
            "Endireite-se, soldadinho\n",
            "Enrijeça o lábio superior\n",
            "Sobre o que você está chorando?\n",
            "Você me pegou\n",
            "\n",
            "Hailie, eu sei que você sente falta da sua mãe e eu sei que você sente falta do seu pai\n",
            "Bem, eu fui embora, mas estou tentando te dar a vida que nunca tive\n",
            "Eu posso ver que você está triste, mesmo quando você sorri, mesmo quando você ri\n",
            "Eu posso ver isso em seus olhos, no fundo você quer chorar\n",
            "Porque você está com medo, eu não estou lá\n",
            "Papai está com você em suas orações\n",
            "Chega de chorar, enxugue as lágrimas\n",
            "Papai está aqui, não há mais pesadelos\n",
            "Nós vamos nos unir através disso, nós vamos fazer isso\n",
            "Lainie, o tio é louco, não é?\n",
            "Sim, mas ele te ama, garota, e é melhor você saber disso\n",
            "Somos tudo o que temos neste mundo\n",
            "Quando ele gira, quando ele gira\n",
            "Quando ele gira, quando ele gira\n",
            "Duas meninas bonitas\n",
            "Parecendo intrigado, atordoado\n",
            "Eu sei que está te confundindo\n",
            "Papai está sempre em movimento, mamãe está sempre no noticiário\n",
            "Eu tento mantê-lo protegido disso, mas de alguma forma parece\n",
            "Quanto mais eu tento fazer isso, mais o tiro sai pela culatra para mim\n",
            "Todas as coisas crescendo como papai que ele tinha que ver\n",
            "Papai não quer que você veja, mas você vê tanto quanto ele\n",
            "Nós não planejamos que fosse assim, sua mãe e eu\n",
            "Mas as coisas ficaram tão ruins entre nós\n",
            "Eu não nos vejo juntos nunca mais\n",
            "Como costumávamos ser quando éramos adolescentes\n",
            "Mas então, é claro, tudo sempre acontece por um motivo\n",
            "Eu acho que nunca foi para ser\n",
            "Mas é apenas algo sobre o qual não temos controle e é isso que o destino é\n",
            "Mas não se preocupe mais, descanse a cabeça e vá dormir\n",
            "Talvez um dia acordemos e tudo isso seja apenas um sonho\n",
            "\n",
            "Agora silêncio, bebezinho, não chore\n",
            "Tudo vai ficar bem\n",
            "Endureça o lábio superior, mocinha, eu te disse\n",
            "Papai está aqui para te abraçar durante a noite\n",
            "Eu sei que a mamãe não está aqui agora e não sabemos por quê\n",
            "Sentimos como nos sentimos por dentro\n",
            "Pode parecer um pouco louco, lindo bebê\n",
            "Mas eu prometo que mamãe vai ficar bem\n",
            "\n",
            "É engraçado\n",
            "Lembro-me de um ano, quando papai não tinha dinheiro\n",
            "Mamãe embrulhou os presentes de Natal\n",
            "E enfiou-os debaixo da árvore e disse que alguns deles eram de mim\n",
            "Porque papai não podia comprá-los\n",
            "Eu nunca vou esquecer aquele Natal, eu fiquei acordado a noite inteira chorando\n",
            "Porque papai se sentia como um, veja, papai tinha um emprego\n",
            "Mas o trabalho dele era manter a comida na mesa para você e sua mãe\n",
            "E na época, todas as casas em que morávamos\n",
            "Ou continuou ficando invadido e roubado ou baleado no quarteirão\n",
            "E sua mãe estava economizando dinheiro para você em uma jarra\n",
            "Tentando começar um cofrinho para você para que você possa ir para a faculdade\n",
            "Quase tinha mil dólares até que alguém invadiu e roubou\n",
            "E eu sei que doeu tanto, partiu o coração da sua mãe\n",
            "E parecia que tudo estava começando a desmoronar\n",
            "Mamãe e papai estavam discutindo muito, então mamãe voltou\n",
            "Nos Chalmers no apartamento de um quarto\n",
            "E papai voltou para o outro lado da 8 Mile em Novara\n",
            "E foi aí que papai foi para a Califórnia com seu CD e conheceu o Dr. Dre\n",
            "E voou você e mamãe para me ver\n",
            "Mas papai tinha que trabalhar, você e mamãe tiveram que me deixar\n",
            "Então você começou a ver o papai na TV e mamãe não gostou\n",
            "E você e Lainie eram jovens demais para entender isso\n",
            "Papai era uma pedra rolante, mamãe desenvolveu um hábito\n",
            "E tudo aconteceu rápido demais para qualquer um de nós agarrá-lo\n",
            "Só sinto muito que você estivesse lá e tivesse que testemunhar isso em primeira mão\n",
            "Porque tudo que eu sempre quis fazer era apenas deixá-lo orgulhoso\n",
            "Agora estou sentado nesta casa vazia, apenas relembrando\n",
            "Olhando para suas fotos de bebê, isso só me faz tropeçar\n",
            "Para ver o quanto vocês dois cresceram, é quase como se vocês fossem irmãs agora\n",
            "Uau, acho que você está, e papai ainda está aqui\n",
            "Lainie, eu estou falando com você também, papai ainda está aqui\n",
            "Eu gosto do som disso, sim\n",
            "Tem um toque, não é?\n",
            "Shh, mamãe só se foi por um momento\n",
            "\n",
            "Agora silêncio, bebezinho, não chore\n",
            "Tudo vai ficar bem\n",
            "Endureça o lábio superior, mocinha, eu te disse\n",
            "Papai está aqui para te abraçar durante a noite\n",
            "Eu sei que a mamãe não está aqui agora e não sabemos por quê\n",
            "Sentimos como nos sentimos por dentro\n",
            "Pode parecer um pouco louco, lindo bebê\n",
            "Mas eu prometo que mamãe vai ficar bem\n",
            "\n",
            "E se você me pedir para\n",
            "Papai vai te comprar um mockingbird\n",
            "Eu vou te dar o mundo\n",
            "Eu vou comprar um anel de diamante para você\n",
            "Eu vou cantar para você\n",
            "Eu farei qualquer coisa para você ver você sorrir\n",
            "E se aquele pássaro zombeteiro não cantar e aquele anel não brilhar\n",
            "Eu vou quebrar o pescoço daquele passarinho\n",
            "Eu voltaria para o joalheiro que vendeu para você\n",
            "E fazê-lo comer cada quilate, não foda com o pai (haha)\n"
          ]
        },
        {
          "output_type": "execute_result",
          "data": {
            "text/plain": [
              "'/content/music_pt-br.docx'"
            ],
            "application/vnd.google.colaboratory.intrinsic+json": {
              "type": "string"
            }
          },
          "metadata": {},
          "execution_count": 13
        }
      ]
    },
    {
      "cell_type": "code",
      "source": [
        "# input_file = \"/content/music.docx\"\n",
        "# translate_document(input_file)"
      ],
      "metadata": {
        "id": "QnyOq-f2ZC3Q"
      },
      "execution_count": null,
      "outputs": []
    }
  ]
}